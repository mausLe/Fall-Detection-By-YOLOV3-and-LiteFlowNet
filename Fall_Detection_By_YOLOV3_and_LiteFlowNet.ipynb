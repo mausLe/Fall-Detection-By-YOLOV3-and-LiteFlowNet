{
  "nbformat": 4,
  "nbformat_minor": 0,
  "metadata": {
    "colab": {
      "name": "Fall-Detection-By-YOLOV3-and-LiteFlowNet.ipynb",
      "provenance": [],
      "collapsed_sections": [],
      "authorship_tag": "ABX9TyNvrgncpGjgPSjdhFXKvbDC",
      "include_colab_link": true
    },
    "kernelspec": {
      "name": "python3",
      "display_name": "Python 3"
    },
    "accelerator": "GPU"
  },
  "cells": [
    {
      "cell_type": "markdown",
      "metadata": {
        "id": "view-in-github",
        "colab_type": "text"
      },
      "source": [
        "<a href=\"https://colab.research.google.com/github/mausLe/Fall-Detection-By-YOLOV3-and-LiteFlowNet/blob/master/Fall_Detection_By_YOLOV3_and_LiteFlowNet.ipynb\" target=\"_parent\"><img src=\"https://colab.research.google.com/assets/colab-badge.svg\" alt=\"Open In Colab\"/></a>"
      ]
    },
    {
      "cell_type": "markdown",
      "metadata": {
        "id": "Kz1gMXT5-BcN"
      },
      "source": [
        "# Fall Detection By YOLOv3 and LiteFlowNet\n",
        "credit: https://github.com/xiaobin1231/Fall-Detection-By-YOLOV3-and-LiteFlowNet\n"
      ]
    },
    {
      "cell_type": "code",
      "metadata": {
        "id": "G1qDJMKM98vO",
        "outputId": "472a27c6-a745-4094-b977-a0c9877b442d",
        "colab": {
          "base_uri": "https://localhost:8080/",
          "height": 34
        }
      },
      "source": [
        "from google.colab import drive, files\n",
        "drive.mount('/content/gdrive')\n",
        "\n",
        "FOLDERNAME = '/content/gdrive/My\\ Drive/B2DL-Research/Fall-Detection/Running/'\n",
        "\n",
        "assert FOLDERNAME is not None, \"[!] Enter the foldername.\"\n",
        "\n"
      ],
      "execution_count": null,
      "outputs": [
        {
          "output_type": "stream",
          "text": [
            "Mounted at /content/gdrive\n"
          ],
          "name": "stdout"
        }
      ]
    },
    {
      "cell_type": "markdown",
      "metadata": {
        "id": "rfHxCPnqBc5H"
      },
      "source": [
        "# Clone Fall Detection repo"
      ]
    },
    {
      "cell_type": "code",
      "metadata": {
        "id": "h3VbWu0pBZGV",
        "outputId": "196ddf6d-4432-4460-f775-9dace5452bb1",
        "colab": {
          "base_uri": "https://localhost:8080/",
          "height": 134
        }
      },
      "source": [
        "# Clone the my forked repo\n",
        "!git clone https://github.com/mausLe/Fall-Detection-By-YOLOV3-and-LiteFlowNet fallDetect"
      ],
      "execution_count": null,
      "outputs": [
        {
          "output_type": "stream",
          "text": [
            "Cloning into 'fallDetect'...\n",
            "remote: Enumerating objects: 161, done.\u001b[K\n",
            "remote: Counting objects: 100% (161/161), done.\u001b[K\n",
            "remote: Compressing objects: 100% (131/131), done.\u001b[K\n",
            "remote: Total 161 (delta 53), reused 105 (delta 24), pack-reused 0\u001b[K\n",
            "Receiving objects: 100% (161/161), 67.10 MiB | 17.48 MiB/s, done.\n",
            "Resolving deltas: 100% (53/53), done.\n"
          ],
          "name": "stdout"
        }
      ]
    },
    {
      "cell_type": "markdown",
      "metadata": {
        "id": "IAXyTaBkUKs2"
      },
      "source": [
        "Load pre-trained model from Drive"
      ]
    },
    {
      "cell_type": "code",
      "metadata": {
        "id": "V6LRAPvICfY4"
      },
      "source": [
        "!cp -r $FOLDERNAME/. /content/weights"
      ],
      "execution_count": null,
      "outputs": []
    },
    {
      "cell_type": "code",
      "metadata": {
        "id": "fryQpJ4xJwG9",
        "outputId": "cc7a8d9d-c128-4dbc-a807-f61e0af63bbc",
        "colab": {
          "base_uri": "https://localhost:8080/",
          "height": 34
        }
      },
      "source": [
        "!python --version"
      ],
      "execution_count": null,
      "outputs": [
        {
          "output_type": "stream",
          "text": [
            "Python 3.6.9\n"
          ],
          "name": "stdout"
        }
      ]
    },
    {
      "cell_type": "code",
      "metadata": {
        "id": "AHqwKKOqHxxQ",
        "outputId": "b1ac5d38-f5a5-41a9-b8fc-6a82119d52a7",
        "colab": {
          "base_uri": "https://localhost:8080/",
          "height": 353
        }
      },
      "source": [
        "!nvidia-smi"
      ],
      "execution_count": null,
      "outputs": [
        {
          "output_type": "stream",
          "text": [
            "Wed Oct 21 17:06:32 2020       \n",
            "+-----------------------------------------------------------------------------+\n",
            "| NVIDIA-SMI 455.23.05    Driver Version: 418.67       CUDA Version: 10.1     |\n",
            "|-------------------------------+----------------------+----------------------+\n",
            "| GPU  Name        Persistence-M| Bus-Id        Disp.A | Volatile Uncorr. ECC |\n",
            "| Fan  Temp  Perf  Pwr:Usage/Cap|         Memory-Usage | GPU-Util  Compute M. |\n",
            "|                               |                      |               MIG M. |\n",
            "|===============================+======================+======================|\n",
            "|   0  Tesla T4            Off  | 00000000:00:04.0 Off |                    0 |\n",
            "| N/A   54C    P8    10W /  70W |      0MiB / 15079MiB |      0%      Default |\n",
            "|                               |                      |                 ERR! |\n",
            "+-------------------------------+----------------------+----------------------+\n",
            "                                                                               \n",
            "+-----------------------------------------------------------------------------+\n",
            "| Processes:                                                                  |\n",
            "|  GPU   GI   CI        PID   Type   Process name                  GPU Memory |\n",
            "|        ID   ID                                                   Usage      |\n",
            "|=============================================================================|\n",
            "|  No running processes found                                                 |\n",
            "+-----------------------------------------------------------------------------+\n"
          ],
          "name": "stdout"
        }
      ]
    },
    {
      "cell_type": "code",
      "metadata": {
        "id": "_TGSyfxXEMPc",
        "outputId": "68d88805-6c26-4a44-b852-e8ae8605690f",
        "colab": {
          "base_uri": "https://localhost:8080/",
          "height": 911
        }
      },
      "source": [
        "%cd /content/fallDetect/\n",
        "!pip install -U -r requirements.txt"
      ],
      "execution_count": null,
      "outputs": [
        {
          "output_type": "stream",
          "text": [
            "/content/fallDetect\n",
            "Collecting numpy\n",
            "\u001b[?25l  Downloading https://files.pythonhosted.org/packages/63/97/af8a92864a04bfa48f1b5c9b1f8bf2ccb2847f24530026f26dd223de4ca0/numpy-1.19.2-cp36-cp36m-manylinux2010_x86_64.whl (14.5MB)\n",
            "\u001b[K     |████████████████████████████████| 14.5MB 235kB/s \n",
            "\u001b[?25hCollecting opencv-python>=4.1\n",
            "\u001b[?25l  Downloading https://files.pythonhosted.org/packages/a2/72/134fdc8d766a6004ee96ce84446f38457a6345fc0ce85721326cbf2adc87/opencv_python-4.4.0.44-cp36-cp36m-manylinux2014_x86_64.whl (49.5MB)\n",
            "\u001b[K     |████████████████████████████████| 49.5MB 65kB/s \n",
            "\u001b[?25hRequirement already up-to-date: torch>=1.4 in /usr/local/lib/python3.6/dist-packages (from -r requirements.txt (line 4)) (1.6.0+cu101)\n",
            "Collecting matplotlib\n",
            "\u001b[?25l  Downloading https://files.pythonhosted.org/packages/cd/d6/8c4dfb23151d5a494c66ebbfdb5c8c433b44ec07fae52da5939fcda0943f/matplotlib-3.3.2-cp36-cp36m-manylinux1_x86_64.whl (11.6MB)\n",
            "\u001b[K     |████████████████████████████████| 11.6MB 45.3MB/s \n",
            "\u001b[?25hRequirement already up-to-date: pycocotools in /usr/local/lib/python3.6/dist-packages (from -r requirements.txt (line 6)) (2.0.2)\n",
            "Collecting tqdm\n",
            "\u001b[?25l  Downloading https://files.pythonhosted.org/packages/bd/cf/f91813073e4135c1183cadf968256764a6fe4e35c351d596d527c0540461/tqdm-4.50.2-py2.py3-none-any.whl (70kB)\n",
            "\u001b[K     |████████████████████████████████| 71kB 8.8MB/s \n",
            "\u001b[?25hCollecting pillow\n",
            "\u001b[?25l  Downloading https://files.pythonhosted.org/packages/a6/9c/829c74f7f7f129616dfb6f75afd72529f895d29db71c7aeb46b02fcfb26d/Pillow-8.0.0-cp36-cp36m-manylinux1_x86_64.whl (2.2MB)\n",
            "\u001b[K     |████████████████████████████████| 2.2MB 49.9MB/s \n",
            "\u001b[?25hRequirement already satisfied, skipping upgrade: future in /usr/local/lib/python3.6/dist-packages (from torch>=1.4->-r requirements.txt (line 4)) (0.16.0)\n",
            "Requirement already satisfied, skipping upgrade: pyparsing!=2.0.4,!=2.1.2,!=2.1.6,>=2.0.3 in /usr/local/lib/python3.6/dist-packages (from matplotlib->-r requirements.txt (line 5)) (2.4.7)\n",
            "Requirement already satisfied, skipping upgrade: python-dateutil>=2.1 in /usr/local/lib/python3.6/dist-packages (from matplotlib->-r requirements.txt (line 5)) (2.8.1)\n",
            "Requirement already satisfied, skipping upgrade: certifi>=2020.06.20 in /usr/local/lib/python3.6/dist-packages (from matplotlib->-r requirements.txt (line 5)) (2020.6.20)\n",
            "Requirement already satisfied, skipping upgrade: kiwisolver>=1.0.1 in /usr/local/lib/python3.6/dist-packages (from matplotlib->-r requirements.txt (line 5)) (1.2.0)\n",
            "Requirement already satisfied, skipping upgrade: cycler>=0.10 in /usr/local/lib/python3.6/dist-packages (from matplotlib->-r requirements.txt (line 5)) (0.10.0)\n",
            "Requirement already satisfied, skipping upgrade: cython>=0.27.3 in /usr/local/lib/python3.6/dist-packages (from pycocotools->-r requirements.txt (line 6)) (0.29.21)\n",
            "Requirement already satisfied, skipping upgrade: setuptools>=18.0 in /usr/local/lib/python3.6/dist-packages (from pycocotools->-r requirements.txt (line 6)) (50.3.0)\n",
            "Requirement already satisfied, skipping upgrade: six>=1.5 in /usr/local/lib/python3.6/dist-packages (from python-dateutil>=2.1->matplotlib->-r requirements.txt (line 5)) (1.15.0)\n",
            "\u001b[31mERROR: tensorflow 2.3.0 has requirement numpy<1.19.0,>=1.16.0, but you'll have numpy 1.19.2 which is incompatible.\u001b[0m\n",
            "\u001b[31mERROR: datascience 0.10.6 has requirement folium==0.2.1, but you'll have folium 0.8.3 which is incompatible.\u001b[0m\n",
            "\u001b[31mERROR: albumentations 0.1.12 has requirement imgaug<0.2.7,>=0.2.5, but you'll have imgaug 0.2.9 which is incompatible.\u001b[0m\n",
            "Installing collected packages: numpy, opencv-python, pillow, matplotlib, tqdm\n",
            "  Found existing installation: numpy 1.18.5\n",
            "    Uninstalling numpy-1.18.5:\n",
            "      Successfully uninstalled numpy-1.18.5\n",
            "  Found existing installation: opencv-python 4.1.2.30\n",
            "    Uninstalling opencv-python-4.1.2.30:\n",
            "      Successfully uninstalled opencv-python-4.1.2.30\n",
            "  Found existing installation: Pillow 7.0.0\n",
            "    Uninstalling Pillow-7.0.0:\n",
            "      Successfully uninstalled Pillow-7.0.0\n",
            "  Found existing installation: matplotlib 3.2.2\n",
            "    Uninstalling matplotlib-3.2.2:\n",
            "      Successfully uninstalled matplotlib-3.2.2\n",
            "  Found existing installation: tqdm 4.41.1\n",
            "    Uninstalling tqdm-4.41.1:\n",
            "      Successfully uninstalled tqdm-4.41.1\n",
            "Successfully installed matplotlib-3.3.2 numpy-1.19.2 opencv-python-4.4.0.44 pillow-8.0.0 tqdm-4.50.2\n"
          ],
          "name": "stdout"
        },
        {
          "output_type": "display_data",
          "data": {
            "application/vnd.colab-display-data+json": {
              "pip_warning": {
                "packages": [
                  "PIL",
                  "matplotlib",
                  "mpl_toolkits",
                  "numpy"
                ]
              }
            }
          },
          "metadata": {
            "tags": []
          }
        }
      ]
    },
    {
      "cell_type": "code",
      "metadata": {
        "id": "UHDQO7BXHQKD",
        "outputId": "13f4803d-7d40-49cf-fbc5-9e1007368837",
        "colab": {
          "base_uri": "https://localhost:8080/",
          "height": 154
        }
      },
      "source": [
        "# Install cupy for CUDA 10.0\n",
        "!pip install cupy-cuda100"
      ],
      "execution_count": null,
      "outputs": [
        {
          "output_type": "stream",
          "text": [
            "Collecting cupy-cuda100\n",
            "\u001b[?25l  Downloading https://files.pythonhosted.org/packages/4b/dd/69a4a670928d5f3ef18e84583c8efd2b4abcd5bbf51b3141652fce7fcc89/cupy_cuda100-8.0.0-cp36-cp36m-manylinux1_x86_64.whl (369.6MB)\n",
            "\u001b[K     |████████████████████████████████| 369.6MB 43kB/s \n",
            "\u001b[?25hRequirement already satisfied: fastrlock>=0.3 in /usr/local/lib/python3.6/dist-packages (from cupy-cuda100) (0.5)\n",
            "Requirement already satisfied: numpy>=1.15 in /usr/local/lib/python3.6/dist-packages (from cupy-cuda100) (1.19.2)\n",
            "Installing collected packages: cupy-cuda100\n",
            "Successfully installed cupy-cuda100-8.0.0\n"
          ],
          "name": "stdout"
        }
      ]
    },
    {
      "cell_type": "code",
      "metadata": {
        "id": "xkMPdLAu21vV"
      },
      "source": [
        "!mkdir /content/fallDetect/demo/output"
      ],
      "execution_count": null,
      "outputs": []
    },
    {
      "cell_type": "code",
      "metadata": {
        "id": "uWuKPZbnXcn-"
      },
      "source": [
        "!rm -rf /content/fallDetect/output/*"
      ],
      "execution_count": null,
      "outputs": []
    },
    {
      "cell_type": "markdown",
      "metadata": {
        "id": "Nfe9rmQZYDcA"
      },
      "source": [
        "# Install Youtube Video Downloader"
      ]
    },
    {
      "cell_type": "code",
      "metadata": {
        "id": "Sl_yyGImYI94",
        "outputId": "5ddfe4ac-d078-4730-b9b6-682e23c760d0",
        "colab": {
          "base_uri": "https://localhost:8080/",
          "height": 34
        }
      },
      "source": [
        "!pip install -q youtube-dl"
      ],
      "execution_count": null,
      "outputs": [
        {
          "output_type": "stream",
          "text": [
            "\u001b[?25l\r\u001b[K     |▏                               | 10kB 20.9MB/s eta 0:00:01\r\u001b[K     |▍                               | 20kB 6.4MB/s eta 0:00:01\r\u001b[K     |▌                               | 30kB 7.7MB/s eta 0:00:01\r\u001b[K     |▊                               | 40kB 8.3MB/s eta 0:00:01\r\u001b[K     |█                               | 51kB 7.3MB/s eta 0:00:01\r\u001b[K     |█                               | 61kB 8.2MB/s eta 0:00:01\r\u001b[K     |█▎                              | 71kB 8.4MB/s eta 0:00:01\r\u001b[K     |█▍                              | 81kB 9.0MB/s eta 0:00:01\r\u001b[K     |█▋                              | 92kB 8.4MB/s eta 0:00:01\r\u001b[K     |█▉                              | 102kB 8.6MB/s eta 0:00:01\r\u001b[K     |██                              | 112kB 8.6MB/s eta 0:00:01\r\u001b[K     |██▏                             | 122kB 8.6MB/s eta 0:00:01\r\u001b[K     |██▍                             | 133kB 8.6MB/s eta 0:00:01\r\u001b[K     |██▌                             | 143kB 8.6MB/s eta 0:00:01\r\u001b[K     |██▊                             | 153kB 8.6MB/s eta 0:00:01\r\u001b[K     |██▉                             | 163kB 8.6MB/s eta 0:00:01\r\u001b[K     |███                             | 174kB 8.6MB/s eta 0:00:01\r\u001b[K     |███▎                            | 184kB 8.6MB/s eta 0:00:01\r\u001b[K     |███▍                            | 194kB 8.6MB/s eta 0:00:01\r\u001b[K     |███▋                            | 204kB 8.6MB/s eta 0:00:01\r\u001b[K     |███▊                            | 215kB 8.6MB/s eta 0:00:01\r\u001b[K     |████                            | 225kB 8.6MB/s eta 0:00:01\r\u001b[K     |████▏                           | 235kB 8.6MB/s eta 0:00:01\r\u001b[K     |████▎                           | 245kB 8.6MB/s eta 0:00:01\r\u001b[K     |████▌                           | 256kB 8.6MB/s eta 0:00:01\r\u001b[K     |████▊                           | 266kB 8.6MB/s eta 0:00:01\r\u001b[K     |████▉                           | 276kB 8.6MB/s eta 0:00:01\r\u001b[K     |█████                           | 286kB 8.6MB/s eta 0:00:01\r\u001b[K     |█████▏                          | 296kB 8.6MB/s eta 0:00:01\r\u001b[K     |█████▍                          | 307kB 8.6MB/s eta 0:00:01\r\u001b[K     |█████▋                          | 317kB 8.6MB/s eta 0:00:01\r\u001b[K     |█████▊                          | 327kB 8.6MB/s eta 0:00:01\r\u001b[K     |██████                          | 337kB 8.6MB/s eta 0:00:01\r\u001b[K     |██████                          | 348kB 8.6MB/s eta 0:00:01\r\u001b[K     |██████▎                         | 358kB 8.6MB/s eta 0:00:01\r\u001b[K     |██████▌                         | 368kB 8.6MB/s eta 0:00:01\r\u001b[K     |██████▋                         | 378kB 8.6MB/s eta 0:00:01\r\u001b[K     |██████▉                         | 389kB 8.6MB/s eta 0:00:01\r\u001b[K     |███████                         | 399kB 8.6MB/s eta 0:00:01\r\u001b[K     |███████▏                        | 409kB 8.6MB/s eta 0:00:01\r\u001b[K     |███████▍                        | 419kB 8.6MB/s eta 0:00:01\r\u001b[K     |███████▌                        | 430kB 8.6MB/s eta 0:00:01\r\u001b[K     |███████▊                        | 440kB 8.6MB/s eta 0:00:01\r\u001b[K     |████████                        | 450kB 8.6MB/s eta 0:00:01\r\u001b[K     |████████                        | 460kB 8.6MB/s eta 0:00:01\r\u001b[K     |████████▎                       | 471kB 8.6MB/s eta 0:00:01\r\u001b[K     |████████▍                       | 481kB 8.6MB/s eta 0:00:01\r\u001b[K     |████████▋                       | 491kB 8.6MB/s eta 0:00:01\r\u001b[K     |████████▉                       | 501kB 8.6MB/s eta 0:00:01\r\u001b[K     |█████████                       | 512kB 8.6MB/s eta 0:00:01\r\u001b[K     |█████████▏                      | 522kB 8.6MB/s eta 0:00:01\r\u001b[K     |█████████▍                      | 532kB 8.6MB/s eta 0:00:01\r\u001b[K     |█████████▌                      | 542kB 8.6MB/s eta 0:00:01\r\u001b[K     |█████████▊                      | 552kB 8.6MB/s eta 0:00:01\r\u001b[K     |█████████▉                      | 563kB 8.6MB/s eta 0:00:01\r\u001b[K     |██████████                      | 573kB 8.6MB/s eta 0:00:01\r\u001b[K     |██████████▎                     | 583kB 8.6MB/s eta 0:00:01\r\u001b[K     |██████████▍                     | 593kB 8.6MB/s eta 0:00:01\r\u001b[K     |██████████▋                     | 604kB 8.6MB/s eta 0:00:01\r\u001b[K     |██████████▊                     | 614kB 8.6MB/s eta 0:00:01\r\u001b[K     |███████████                     | 624kB 8.6MB/s eta 0:00:01\r\u001b[K     |███████████▏                    | 634kB 8.6MB/s eta 0:00:01\r\u001b[K     |███████████▎                    | 645kB 8.6MB/s eta 0:00:01\r\u001b[K     |███████████▌                    | 655kB 8.6MB/s eta 0:00:01\r\u001b[K     |███████████▊                    | 665kB 8.6MB/s eta 0:00:01\r\u001b[K     |███████████▉                    | 675kB 8.6MB/s eta 0:00:01\r\u001b[K     |████████████                    | 686kB 8.6MB/s eta 0:00:01\r\u001b[K     |████████████▏                   | 696kB 8.6MB/s eta 0:00:01\r\u001b[K     |████████████▍                   | 706kB 8.6MB/s eta 0:00:01\r\u001b[K     |████████████▋                   | 716kB 8.6MB/s eta 0:00:01\r\u001b[K     |████████████▊                   | 727kB 8.6MB/s eta 0:00:01\r\u001b[K     |█████████████                   | 737kB 8.6MB/s eta 0:00:01\r\u001b[K     |█████████████                   | 747kB 8.6MB/s eta 0:00:01\r\u001b[K     |█████████████▎                  | 757kB 8.6MB/s eta 0:00:01\r\u001b[K     |█████████████▌                  | 768kB 8.6MB/s eta 0:00:01\r\u001b[K     |█████████████▋                  | 778kB 8.6MB/s eta 0:00:01\r\u001b[K     |█████████████▉                  | 788kB 8.6MB/s eta 0:00:01\r\u001b[K     |██████████████                  | 798kB 8.6MB/s eta 0:00:01\r\u001b[K     |██████████████▏                 | 808kB 8.6MB/s eta 0:00:01\r\u001b[K     |██████████████▍                 | 819kB 8.6MB/s eta 0:00:01\r\u001b[K     |██████████████▌                 | 829kB 8.6MB/s eta 0:00:01\r\u001b[K     |██████████████▊                 | 839kB 8.6MB/s eta 0:00:01\r\u001b[K     |███████████████                 | 849kB 8.6MB/s eta 0:00:01\r\u001b[K     |███████████████                 | 860kB 8.6MB/s eta 0:00:01\r\u001b[K     |███████████████▎                | 870kB 8.6MB/s eta 0:00:01\r\u001b[K     |███████████████▍                | 880kB 8.6MB/s eta 0:00:01\r\u001b[K     |███████████████▋                | 890kB 8.6MB/s eta 0:00:01\r\u001b[K     |███████████████▉                | 901kB 8.6MB/s eta 0:00:01\r\u001b[K     |████████████████                | 911kB 8.6MB/s eta 0:00:01\r\u001b[K     |████████████████▏               | 921kB 8.6MB/s eta 0:00:01\r\u001b[K     |████████████████▍               | 931kB 8.6MB/s eta 0:00:01\r\u001b[K     |████████████████▌               | 942kB 8.6MB/s eta 0:00:01\r\u001b[K     |████████████████▊               | 952kB 8.6MB/s eta 0:00:01\r\u001b[K     |████████████████▉               | 962kB 8.6MB/s eta 0:00:01\r\u001b[K     |█████████████████               | 972kB 8.6MB/s eta 0:00:01\r\u001b[K     |█████████████████▎              | 983kB 8.6MB/s eta 0:00:01\r\u001b[K     |█████████████████▍              | 993kB 8.6MB/s eta 0:00:01\r\u001b[K     |█████████████████▋              | 1.0MB 8.6MB/s eta 0:00:01\r\u001b[K     |█████████████████▊              | 1.0MB 8.6MB/s eta 0:00:01\r\u001b[K     |██████████████████              | 1.0MB 8.6MB/s eta 0:00:01\r\u001b[K     |██████████████████▏             | 1.0MB 8.6MB/s eta 0:00:01\r\u001b[K     |██████████████████▎             | 1.0MB 8.6MB/s eta 0:00:01\r\u001b[K     |██████████████████▌             | 1.1MB 8.6MB/s eta 0:00:01\r\u001b[K     |██████████████████▊             | 1.1MB 8.6MB/s eta 0:00:01\r\u001b[K     |██████████████████▉             | 1.1MB 8.6MB/s eta 0:00:01\r\u001b[K     |███████████████████             | 1.1MB 8.6MB/s eta 0:00:01\r\u001b[K     |███████████████████▏            | 1.1MB 8.6MB/s eta 0:00:01\r\u001b[K     |███████████████████▍            | 1.1MB 8.6MB/s eta 0:00:01\r\u001b[K     |███████████████████▋            | 1.1MB 8.6MB/s eta 0:00:01\r\u001b[K     |███████████████████▊            | 1.1MB 8.6MB/s eta 0:00:01\r\u001b[K     |████████████████████            | 1.1MB 8.6MB/s eta 0:00:01\r\u001b[K     |████████████████████            | 1.1MB 8.6MB/s eta 0:00:01\r\u001b[K     |████████████████████▎           | 1.2MB 8.6MB/s eta 0:00:01\r\u001b[K     |████████████████████▌           | 1.2MB 8.6MB/s eta 0:00:01\r\u001b[K     |████████████████████▋           | 1.2MB 8.6MB/s eta 0:00:01\r\u001b[K     |████████████████████▉           | 1.2MB 8.6MB/s eta 0:00:01\r\u001b[K     |█████████████████████           | 1.2MB 8.6MB/s eta 0:00:01\r\u001b[K     |█████████████████████▏          | 1.2MB 8.6MB/s eta 0:00:01\r\u001b[K     |█████████████████████▍          | 1.2MB 8.6MB/s eta 0:00:01\r\u001b[K     |█████████████████████▌          | 1.2MB 8.6MB/s eta 0:00:01\r\u001b[K     |█████████████████████▊          | 1.2MB 8.6MB/s eta 0:00:01\r\u001b[K     |██████████████████████          | 1.2MB 8.6MB/s eta 0:00:01\r\u001b[K     |██████████████████████          | 1.3MB 8.6MB/s eta 0:00:01\r\u001b[K     |██████████████████████▎         | 1.3MB 8.6MB/s eta 0:00:01\r\u001b[K     |██████████████████████▍         | 1.3MB 8.6MB/s eta 0:00:01\r\u001b[K     |██████████████████████▋         | 1.3MB 8.6MB/s eta 0:00:01\r\u001b[K     |██████████████████████▉         | 1.3MB 8.6MB/s eta 0:00:01\r\u001b[K     |███████████████████████         | 1.3MB 8.6MB/s eta 0:00:01\r\u001b[K     |███████████████████████▏        | 1.3MB 8.6MB/s eta 0:00:01\r\u001b[K     |███████████████████████▍        | 1.3MB 8.6MB/s eta 0:00:01\r\u001b[K     |███████████████████████▌        | 1.3MB 8.6MB/s eta 0:00:01\r\u001b[K     |███████████████████████▊        | 1.4MB 8.6MB/s eta 0:00:01\r\u001b[K     |███████████████████████▉        | 1.4MB 8.6MB/s eta 0:00:01\r\u001b[K     |████████████████████████        | 1.4MB 8.6MB/s eta 0:00:01\r\u001b[K     |████████████████████████▎       | 1.4MB 8.6MB/s eta 0:00:01\r\u001b[K     |████████████████████████▍       | 1.4MB 8.6MB/s eta 0:00:01\r\u001b[K     |████████████████████████▋       | 1.4MB 8.6MB/s eta 0:00:01\r\u001b[K     |████████████████████████▊       | 1.4MB 8.6MB/s eta 0:00:01\r\u001b[K     |█████████████████████████       | 1.4MB 8.6MB/s eta 0:00:01\r\u001b[K     |█████████████████████████▏      | 1.4MB 8.6MB/s eta 0:00:01\r\u001b[K     |█████████████████████████▎      | 1.4MB 8.6MB/s eta 0:00:01\r\u001b[K     |█████████████████████████▌      | 1.5MB 8.6MB/s eta 0:00:01\r\u001b[K     |█████████████████████████▊      | 1.5MB 8.6MB/s eta 0:00:01\r\u001b[K     |█████████████████████████▉      | 1.5MB 8.6MB/s eta 0:00:01\r\u001b[K     |██████████████████████████      | 1.5MB 8.6MB/s eta 0:00:01\r\u001b[K     |██████████████████████████▏     | 1.5MB 8.6MB/s eta 0:00:01\r\u001b[K     |██████████████████████████▍     | 1.5MB 8.6MB/s eta 0:00:01\r\u001b[K     |██████████████████████████▋     | 1.5MB 8.6MB/s eta 0:00:01\r\u001b[K     |██████████████████████████▊     | 1.5MB 8.6MB/s eta 0:00:01\r\u001b[K     |███████████████████████████     | 1.5MB 8.6MB/s eta 0:00:01\r\u001b[K     |███████████████████████████     | 1.5MB 8.6MB/s eta 0:00:01\r\u001b[K     |███████████████████████████▎    | 1.6MB 8.6MB/s eta 0:00:01\r\u001b[K     |███████████████████████████▌    | 1.6MB 8.6MB/s eta 0:00:01\r\u001b[K     |███████████████████████████▋    | 1.6MB 8.6MB/s eta 0:00:01\r\u001b[K     |███████████████████████████▉    | 1.6MB 8.6MB/s eta 0:00:01\r\u001b[K     |████████████████████████████    | 1.6MB 8.6MB/s eta 0:00:01\r\u001b[K     |████████████████████████████▏   | 1.6MB 8.6MB/s eta 0:00:01\r\u001b[K     |████████████████████████████▍   | 1.6MB 8.6MB/s eta 0:00:01\r\u001b[K     |████████████████████████████▌   | 1.6MB 8.6MB/s eta 0:00:01\r\u001b[K     |████████████████████████████▊   | 1.6MB 8.6MB/s eta 0:00:01\r\u001b[K     |█████████████████████████████   | 1.6MB 8.6MB/s eta 0:00:01\r\u001b[K     |█████████████████████████████   | 1.7MB 8.6MB/s eta 0:00:01\r\u001b[K     |█████████████████████████████▎  | 1.7MB 8.6MB/s eta 0:00:01\r\u001b[K     |█████████████████████████████▍  | 1.7MB 8.6MB/s eta 0:00:01\r\u001b[K     |█████████████████████████████▋  | 1.7MB 8.6MB/s eta 0:00:01\r\u001b[K     |█████████████████████████████▉  | 1.7MB 8.6MB/s eta 0:00:01\r\u001b[K     |██████████████████████████████  | 1.7MB 8.6MB/s eta 0:00:01\r\u001b[K     |██████████████████████████████▏ | 1.7MB 8.6MB/s eta 0:00:01\r\u001b[K     |██████████████████████████████▍ | 1.7MB 8.6MB/s eta 0:00:01\r\u001b[K     |██████████████████████████████▌ | 1.7MB 8.6MB/s eta 0:00:01\r\u001b[K     |██████████████████████████████▊ | 1.8MB 8.6MB/s eta 0:00:01\r\u001b[K     |██████████████████████████████▉ | 1.8MB 8.6MB/s eta 0:00:01\r\u001b[K     |███████████████████████████████ | 1.8MB 8.6MB/s eta 0:00:01\r\u001b[K     |███████████████████████████████▎| 1.8MB 8.6MB/s eta 0:00:01\r\u001b[K     |███████████████████████████████▍| 1.8MB 8.6MB/s eta 0:00:01\r\u001b[K     |███████████████████████████████▋| 1.8MB 8.6MB/s eta 0:00:01\r\u001b[K     |███████████████████████████████▊| 1.8MB 8.6MB/s eta 0:00:01\r\u001b[K     |████████████████████████████████| 1.8MB 8.6MB/s eta 0:00:01\r\u001b[K     |████████████████████████████████| 1.8MB 8.6MB/s \n",
            "\u001b[?25h"
          ],
          "name": "stdout"
        }
      ]
    },
    {
      "cell_type": "code",
      "metadata": {
        "id": "kCke6tMaYRWv",
        "outputId": "69e87429-0cbe-4a6c-fc7a-eac81c8b2ef9",
        "colab": {
          "base_uri": "https://localhost:8080/",
          "height": 67
        }
      },
      "source": [
        "YOUTUBE_ID = \"Od_RgAP8ojk\" # Falls in elderly people 1/5 https://www.youtube.com/watch?v=p5i4z3sNaKM&ab_channel=TheLancet\n",
        "\n",
        "!rm -rf youtube.mp4\n",
        "!youtube-dl -f 'bestvideo[ext=mp4]' --output \"youtube.%(ext)s\" https://www.youtube.com/watch?v=$YOUTUBE_ID\n",
        "!cp -R youtube.mp4 /content/fallDetect/demo/input/edlerly_fall_5.mp4\n"
      ],
      "execution_count": null,
      "outputs": [
        {
          "output_type": "stream",
          "text": [
            "[youtube] Od_RgAP8ojk: Downloading webpage\n",
            "[download] Destination: youtube.mp4\n",
            "\u001b[K[download] 100% of 622.05KiB in 00:00\n"
          ],
          "name": "stdout"
        }
      ]
    },
    {
      "cell_type": "code",
      "metadata": {
        "id": "iUgZ23tMGLbF",
        "outputId": "71cd9de6-8b0f-4114-9815-e0656ac832f2",
        "colab": {
          "base_uri": "https://localhost:8080/",
          "height": 1000
        }
      },
      "source": [
        "%cd /content/fallDetect/\n",
        "!python detect.py --source \"/content/fallDetect/demo/input/test.mp4\" --weights /content/weights/yolov3FallDetection.pt --LiteFlowNet_weights /content/weights/LiteFlowNet.pt"
      ],
      "execution_count": null,
      "outputs": [
        {
          "output_type": "stream",
          "text": [
            "/content/fallDetect\n",
            "Namespace(LiteFlowNet_weights='/content/weights/LiteFlowNet.pt', agnostic_nms=False, cfg='cfg/yolov3.cfg', classes=None, conf_thres=0.3, device='', fourcc='mp4v', half=False, img_size=512, iou_thres=0.5, names='data/coco.names', output='output', save_txt=False, source='/content/fallDetect/demo/input/test.mp4', view_img=True, weights='/content/weights/yolov3FallDetection.pt')\n",
            "Using CUDA device0 _CudaDeviceProperties(name='Tesla T4', total_memory=15079MB)\n",
            "\n",
            "IMAGE SIZE 512\n",
            "/usr/local/lib/python3.6/dist-packages/torch/nn/functional.py:3384: UserWarning: Default grid_sample and affine_grid behavior has changed to align_corners=False since 1.3.0. Please specify align_corners=True if the old behavior is desired. See the documentation of grid_sample for details.\n",
            "  warnings.warn(\"Default grid_sample and affine_grid behavior has changed \"\n",
            "/content/fallDetect/utils/utils.py:539: UserWarning: This overload of nonzero is deprecated:\n",
            "\tnonzero()\n",
            "Consider using one of the following signatures instead:\n",
            "\tnonzero(*, bool as_tuple) (Triggered internally at  /pytorch/torch/csrc/utils/python_arg_parser.cpp:766.)\n",
            "  i, j = (pred[:, 5:] > conf_thres).nonzero().t()\n",
            "video 1/1 (1/240) /content/fallDetect/demo/input/test.mp4: video 1/1 (2/240) /content/fallDetect/demo/input/test.mp4: 512x512 1 persons, Done. (0.356s)\n",
            "video 1/1 (3/240) /content/fallDetect/demo/input/test.mp4: 512x512 1 persons, Done. (0.121s)\n",
            "video 1/1 (4/240) /content/fallDetect/demo/input/test.mp4: 512x512 1 persons, Done. (0.109s)\n",
            "video 1/1 (5/240) /content/fallDetect/demo/input/test.mp4: 512x512 1 persons, Done. (0.091s)\n",
            "video 1/1 (6/240) /content/fallDetect/demo/input/test.mp4: 512x512 1 persons, Done. (0.088s)\n",
            "video 1/1 (7/240) /content/fallDetect/demo/input/test.mp4: 512x512 1 persons, Done. (0.088s)\n",
            "video 1/1 (8/240) /content/fallDetect/demo/input/test.mp4: 512x512 1 persons, Done. (0.090s)\n",
            "video 1/1 (9/240) /content/fallDetect/demo/input/test.mp4: 512x512 1 persons, Done. (0.089s)\n",
            "video 1/1 (10/240) /content/fallDetect/demo/input/test.mp4: 512x512 1 persons, Done. (0.091s)\n",
            "video 1/1 (11/240) /content/fallDetect/demo/input/test.mp4: 512x512 1 persons, Done. (0.089s)\n",
            "video 1/1 (12/240) /content/fallDetect/demo/input/test.mp4: 512x512 1 persons, Done. (0.087s)\n",
            "video 1/1 (13/240) /content/fallDetect/demo/input/test.mp4: 512x512 1 persons, Done. (0.091s)\n",
            "video 1/1 (14/240) /content/fallDetect/demo/input/test.mp4: 512x512 1 persons, Done. (0.089s)\n",
            "video 1/1 (15/240) /content/fallDetect/demo/input/test.mp4: 512x512 1 persons, Done. (0.086s)\n",
            "video 1/1 (16/240) /content/fallDetect/demo/input/test.mp4: 512x512 1 persons, Done. (0.091s)\n",
            "video 1/1 (17/240) /content/fallDetect/demo/input/test.mp4: 512x512 1 persons, Done. (0.088s)\n",
            "video 1/1 (18/240) /content/fallDetect/demo/input/test.mp4: 512x512 1 persons, Done. (0.088s)\n",
            "video 1/1 (19/240) /content/fallDetect/demo/input/test.mp4: 512x512 1 persons, Done. (0.091s)\n",
            "video 1/1 (20/240) /content/fallDetect/demo/input/test.mp4: 512x512 1 persons, Done. (0.087s)\n",
            "video 1/1 (21/240) /content/fallDetect/demo/input/test.mp4: 512x512 1 persons, Done. (0.090s)\n",
            "video 1/1 (22/240) /content/fallDetect/demo/input/test.mp4: 512x512 1 persons, Done. (0.092s)\n",
            "video 1/1 (23/240) /content/fallDetect/demo/input/test.mp4: 512x512 1 persons, Done. (0.086s)\n",
            "video 1/1 (24/240) /content/fallDetect/demo/input/test.mp4: 512x512 1 persons, Done. (0.090s)\n",
            "video 1/1 (25/240) /content/fallDetect/demo/input/test.mp4: 512x512 1 persons, Done. (0.092s)\n",
            "video 1/1 (26/240) /content/fallDetect/demo/input/test.mp4: 512x512 1 persons, Done. (0.087s)\n",
            "video 1/1 (27/240) /content/fallDetect/demo/input/test.mp4: 512x512 1 persons, Done. (0.090s)\n",
            "video 1/1 (28/240) /content/fallDetect/demo/input/test.mp4: 512x512 1 persons, Done. (0.091s)\n",
            "video 1/1 (29/240) /content/fallDetect/demo/input/test.mp4: 512x512 1 persons, Done. (0.089s)\n",
            "video 1/1 (30/240) /content/fallDetect/demo/input/test.mp4: 512x512 1 persons, Done. (0.090s)\n",
            "video 1/1 (31/240) /content/fallDetect/demo/input/test.mp4: 512x512 1 persons, Done. (0.090s)\n",
            "video 1/1 (32/240) /content/fallDetect/demo/input/test.mp4: 512x512 1 persons, Done. (0.086s)\n",
            "video 1/1 (33/240) /content/fallDetect/demo/input/test.mp4: 512x512 1 persons, Done. (0.091s)\n",
            "video 1/1 (34/240) /content/fallDetect/demo/input/test.mp4: 512x512 1 persons, Done. (0.089s)\n",
            "video 1/1 (35/240) /content/fallDetect/demo/input/test.mp4: 512x512 1 persons, Done. (0.088s)\n",
            "video 1/1 (36/240) /content/fallDetect/demo/input/test.mp4: 512x512 1 persons, Done. (0.091s)\n",
            "video 1/1 (37/240) /content/fallDetect/demo/input/test.mp4: 512x512 1 persons, Done. (0.088s)\n",
            "video 1/1 (38/240) /content/fallDetect/demo/input/test.mp4: 512x512 1 persons, Done. (0.088s)\n",
            "video 1/1 (39/240) /content/fallDetect/demo/input/test.mp4: 512x512 1 persons, Done. (0.091s)\n",
            "video 1/1 (40/240) /content/fallDetect/demo/input/test.mp4: 512x512 1 persons, Done. (0.089s)\n",
            "video 1/1 (41/240) /content/fallDetect/demo/input/test.mp4: 512x512 1 persons, Done. (0.089s)\n",
            "video 1/1 (42/240) /content/fallDetect/demo/input/test.mp4: 512x512 1 persons, Done. (0.091s)\n",
            "video 1/1 (43/240) /content/fallDetect/demo/input/test.mp4: 512x512 1 persons, Done. (0.089s)\n",
            "video 1/1 (44/240) /content/fallDetect/demo/input/test.mp4: 512x512 1 persons, Done. (0.088s)\n",
            "video 1/1 (45/240) /content/fallDetect/demo/input/test.mp4: 512x512 1 persons, Done. (0.091s)\n",
            "video 1/1 (46/240) /content/fallDetect/demo/input/test.mp4: 512x512 1 persons, Done. (0.088s)\n",
            "video 1/1 (47/240) /content/fallDetect/demo/input/test.mp4: 512x512 1 persons, Done. (0.090s)\n",
            "video 1/1 (48/240) /content/fallDetect/demo/input/test.mp4: 512x512 1 persons, Done. (0.091s)\n",
            "video 1/1 (49/240) /content/fallDetect/demo/input/test.mp4: 512x512 1 persons, Done. (0.088s)\n",
            "video 1/1 (50/240) /content/fallDetect/demo/input/test.mp4: 512x512 1 persons, Done. (0.089s)\n",
            "video 1/1 (51/240) /content/fallDetect/demo/input/test.mp4: 512x512 1 persons, Done. (0.091s)\n",
            "video 1/1 (52/240) /content/fallDetect/demo/input/test.mp4: 512x512 1 persons, Done. (0.089s)\n",
            "video 1/1 (53/240) /content/fallDetect/demo/input/test.mp4: 512x512 1 persons, Done. (0.088s)\n",
            "video 1/1 (54/240) /content/fallDetect/demo/input/test.mp4: 512x512 1 persons, Done. (0.091s)\n",
            "video 1/1 (55/240) /content/fallDetect/demo/input/test.mp4: 512x512 1 persons, Done. (0.087s)\n",
            "video 1/1 (56/240) /content/fallDetect/demo/input/test.mp4: 512x512 1 persons, Done. (0.090s)\n",
            "video 1/1 (57/240) /content/fallDetect/demo/input/test.mp4: 512x512 1 persons, Done. (0.092s)\n",
            "video 1/1 (58/240) /content/fallDetect/demo/input/test.mp4: 512x512 1 persons, Done. (0.087s)\n",
            "video 1/1 (59/240) /content/fallDetect/demo/input/test.mp4: 512x512 1 persons, Done. (0.089s)\n",
            "video 1/1 (60/240) /content/fallDetect/demo/input/test.mp4: 512x512 1 persons, Done. (0.091s)\n",
            "video 1/1 (61/240) /content/fallDetect/demo/input/test.mp4: 512x512 1 persons, Done. (0.088s)\n",
            "video 1/1 (62/240) /content/fallDetect/demo/input/test.mp4: 512x512 1 persons, Done. (0.090s)\n",
            "video 1/1 (63/240) /content/fallDetect/demo/input/test.mp4: 512x512 1 persons, Done. (0.090s)\n",
            "video 1/1 (64/240) /content/fallDetect/demo/input/test.mp4: 512x512 1 persons, Done. (0.087s)\n",
            "video 1/1 (65/240) /content/fallDetect/demo/input/test.mp4: 512x512 1 persons, Done. (0.090s)\n",
            "video 1/1 (66/240) /content/fallDetect/demo/input/test.mp4: 512x512 1 persons, Done. (0.091s)\n",
            "video 1/1 (67/240) /content/fallDetect/demo/input/test.mp4: 512x512 1 persons, Done. (0.088s)\n",
            "video 1/1 (68/240) /content/fallDetect/demo/input/test.mp4: 512x512 1 persons, Done. (0.090s)\n",
            "video 1/1 (69/240) /content/fallDetect/demo/input/test.mp4: 512x512 1 persons, Done. (0.091s)\n",
            "video 1/1 (70/240) /content/fallDetect/demo/input/test.mp4: 512x512 1 persons, Done. (0.088s)\n",
            "video 1/1 (71/240) /content/fallDetect/demo/input/test.mp4: 512x512 1 persons, Done. (0.089s)\n",
            "video 1/1 (72/240) /content/fallDetect/demo/input/test.mp4: 512x512 1 persons, Done. (0.093s)\n",
            "video 1/1 (73/240) /content/fallDetect/demo/input/test.mp4: 512x512 1 persons, Done. (0.091s)\n",
            "video 1/1 (74/240) /content/fallDetect/demo/input/test.mp4: 512x512 1 persons, Done. (0.088s)\n",
            "video 1/1 (75/240) /content/fallDetect/demo/input/test.mp4: 512x512 1 persons, Done. (0.094s)\n",
            "video 1/1 (76/240) /content/fallDetect/demo/input/test.mp4: 512x512 1 persons, Done. (0.089s)\n",
            "video 1/1 (77/240) /content/fallDetect/demo/input/test.mp4: 512x512 1 persons, Done. (0.090s)\n",
            "video 1/1 (78/240) /content/fallDetect/demo/input/test.mp4: 512x512 1 persons, Done. (0.088s)\n",
            "video 1/1 (79/240) /content/fallDetect/demo/input/test.mp4: 512x512 1 persons, Done. (0.090s)\n",
            "video 1/1 (80/240) /content/fallDetect/demo/input/test.mp4: 512x512 1 persons, Done. (0.090s)\n",
            "video 1/1 (81/240) /content/fallDetect/demo/input/test.mp4: 512x512 1 persons, Done. (0.089s)\n",
            "video 1/1 (82/240) /content/fallDetect/demo/input/test.mp4: 512x512 1 persons, Done. (0.091s)\n",
            "video 1/1 (83/240) /content/fallDetect/demo/input/test.mp4: 512x512 1 persons, Done. (0.091s)\n",
            "video 1/1 (84/240) /content/fallDetect/demo/input/test.mp4: 512x512 1 persons, Done. (0.088s)\n",
            "video 1/1 (85/240) /content/fallDetect/demo/input/test.mp4: 512x512 1 persons, Done. (0.089s)\n",
            "video 1/1 (86/240) /content/fallDetect/demo/input/test.mp4: 512x512 1 persons, Done. (0.092s)\n",
            "video 1/1 (87/240) /content/fallDetect/demo/input/test.mp4: 512x512 1 persons, Done. (0.090s)\n",
            "video 1/1 (88/240) /content/fallDetect/demo/input/test.mp4: 512x512 1 persons, Done. (0.087s)\n",
            "video 1/1 (89/240) /content/fallDetect/demo/input/test.mp4: 512x512 1 persons, Done. (0.092s)\n",
            "video 1/1 (90/240) /content/fallDetect/demo/input/test.mp4: 512x512 1 persons, Done. (0.091s)\n",
            "video 1/1 (91/240) /content/fallDetect/demo/input/test.mp4: 512x512 1 persons, Done. (0.087s)\n",
            "video 1/1 (92/240) /content/fallDetect/demo/input/test.mp4: 512x512 1 persons, Done. (0.091s)\n",
            "video 1/1 (93/240) /content/fallDetect/demo/input/test.mp4: 512x512 1 persons, Done. (0.093s)\n",
            "video 1/1 (94/240) /content/fallDetect/demo/input/test.mp4: 512x512 1 persons, Done. (0.089s)\n",
            "video 1/1 (95/240) /content/fallDetect/demo/input/test.mp4: 512x512 1 persons, Done. (0.089s)\n",
            "video 1/1 (96/240) /content/fallDetect/demo/input/test.mp4: 512x512 1 persons, Done. (0.093s)\n",
            "video 1/1 (97/240) /content/fallDetect/demo/input/test.mp4: 512x512 1 persons, Done. (0.090s)\n",
            "video 1/1 (98/240) /content/fallDetect/demo/input/test.mp4: 512x512 1 persons, Done. (0.089s)\n",
            "video 1/1 (99/240) /content/fallDetect/demo/input/test.mp4: 512x512 1 persons, Done. (0.090s)\n",
            "video 1/1 (100/240) /content/fallDetect/demo/input/test.mp4: 512x512 1 persons, Done. (0.091s)\n",
            "video 1/1 (101/240) /content/fallDetect/demo/input/test.mp4: 512x512 1 persons, Done. (0.090s)\n",
            "video 1/1 (102/240) /content/fallDetect/demo/input/test.mp4: 512x512 1 persons, Done. (0.089s)\n",
            "video 1/1 (103/240) /content/fallDetect/demo/input/test.mp4: 512x512 1 persons, Done. (0.090s)\n",
            "video 1/1 (104/240) /content/fallDetect/demo/input/test.mp4: 512x512 1 persons, Done. (0.092s)\n",
            "video 1/1 (105/240) /content/fallDetect/demo/input/test.mp4: 512x512 1 persons, Done. (0.092s)\n",
            "video 1/1 (106/240) /content/fallDetect/demo/input/test.mp4: 512x512 1 persons, Done. (0.088s)\n",
            "video 1/1 (107/240) /content/fallDetect/demo/input/test.mp4: 512x512 1 persons, Done. (0.091s)\n",
            "video 1/1 (108/240) /content/fallDetect/demo/input/test.mp4: 512x512 1 persons, Done. (0.091s)\n",
            "video 1/1 (109/240) /content/fallDetect/demo/input/test.mp4: 512x512 1 persons, Done. (0.090s)\n",
            "video 1/1 (110/240) /content/fallDetect/demo/input/test.mp4: 512x512 1 persons, Done. (0.089s)\n",
            "video 1/1 (111/240) /content/fallDetect/demo/input/test.mp4: 512x512 1 persons, Done. (0.092s)\n",
            "video 1/1 (112/240) /content/fallDetect/demo/input/test.mp4: 512x512 1 persons, Done. (0.091s)\n",
            "video 1/1 (113/240) /content/fallDetect/demo/input/test.mp4: 512x512 1 persons, Done. (0.088s)\n",
            "video 1/1 (114/240) /content/fallDetect/demo/input/test.mp4: 512x512 1 persons, Done. (0.091s)\n",
            "video 1/1 (115/240) /content/fallDetect/demo/input/test.mp4: 512x512 1 persons, Done. (0.091s)\n",
            "video 1/1 (116/240) /content/fallDetect/demo/input/test.mp4: 512x512 1 persons, Done. (0.089s)\n",
            "video 1/1 (117/240) /content/fallDetect/demo/input/test.mp4: 512x512 1 persons, Done. (0.091s)\n",
            "video 1/1 (118/240) /content/fallDetect/demo/input/test.mp4: 512x512 1 persons, Done. (0.090s)\n",
            "video 1/1 (119/240) /content/fallDetect/demo/input/test.mp4: 512x512 1 persons, Done. (0.093s)\n",
            "video 1/1 (120/240) /content/fallDetect/demo/input/test.mp4: 512x512 1 persons, Done. (0.092s)\n",
            "video 1/1 (121/240) /content/fallDetect/demo/input/test.mp4: 512x512 1 persons, Done. (0.089s)\n",
            "video 1/1 (122/240) /content/fallDetect/demo/input/test.mp4: 512x512 1 persons, Done. (0.090s)\n",
            "video 1/1 (123/240) /content/fallDetect/demo/input/test.mp4: 512x512 1 persons, Done. (0.093s)\n",
            "video 1/1 (124/240) /content/fallDetect/demo/input/test.mp4: 512x512 1 persons, Done. (0.091s)\n",
            "video 1/1 (125/240) /content/fallDetect/demo/input/test.mp4: 512x512 1 persons, Done. (0.089s)\n",
            "video 1/1 (126/240) /content/fallDetect/demo/input/test.mp4: 512x512 1 persons, Done. (0.092s)\n",
            "video 1/1 (127/240) /content/fallDetect/demo/input/test.mp4: 512x512 1 persons, Done. (0.093s)\n",
            "video 1/1 (128/240) /content/fallDetect/demo/input/test.mp4: 512x512 1 persons, Done. (0.094s)\n",
            "video 1/1 (129/240) /content/fallDetect/demo/input/test.mp4: 512x512 1 persons, Done. (0.092s)\n",
            "video 1/1 (130/240) /content/fallDetect/demo/input/test.mp4: 512x512 1 persons, Done. (0.090s)\n",
            "video 1/1 (131/240) /content/fallDetect/demo/input/test.mp4: 512x512 1 persons, Done. (0.095s)\n",
            "video 1/1 (132/240) /content/fallDetect/demo/input/test.mp4: 512x512 1 persons, Done. (0.091s)\n",
            "video 1/1 (133/240) /content/fallDetect/demo/input/test.mp4: 512x512 1 persons, Done. (0.094s)\n",
            "video 1/1 (134/240) /content/fallDetect/demo/input/test.mp4: 512x512 1 persons, Done. (0.094s)\n",
            "video 1/1 (135/240) /content/fallDetect/demo/input/test.mp4: 512x512 1 persons, Done. (0.093s)\n",
            "video 1/1 (136/240) /content/fallDetect/demo/input/test.mp4: 512x512 1 persons, Done. (0.090s)\n",
            "video 1/1 (137/240) /content/fallDetect/demo/input/test.mp4: 512x512 1 persons, Done. (0.088s)\n",
            "video 1/1 (138/240) /content/fallDetect/demo/input/test.mp4: 512x512 1 persons, Done. (0.092s)\n",
            "video 1/1 (139/240) /content/fallDetect/demo/input/test.mp4: 512x512 1 persons, Done. (0.092s)\n",
            "video 1/1 (140/240) /content/fallDetect/demo/input/test.mp4: 512x512 1 persons, Done. (0.090s)\n",
            "video 1/1 (141/240) /content/fallDetect/demo/input/test.mp4: 512x512 1 persons, Done. (0.089s)\n",
            "video 1/1 (142/240) /content/fallDetect/demo/input/test.mp4: 512x512 1 persons, Done. (0.092s)\n",
            "video 1/1 (143/240) /content/fallDetect/demo/input/test.mp4: 512x512 1 persons, Done. (0.092s)\n",
            "video 1/1 (144/240) /content/fallDetect/demo/input/test.mp4: 512x512 1 persons, Done. (0.090s)\n",
            "video 1/1 (145/240) /content/fallDetect/demo/input/test.mp4: 512x512 1 persons, Done. (0.089s)\n",
            "video 1/1 (146/240) /content/fallDetect/demo/input/test.mp4: 512x512 1 persons, Done. (0.093s)\n",
            "video 1/1 (147/240) /content/fallDetect/demo/input/test.mp4: 512x512 1 persons, Done. (0.093s)\n",
            "video 1/1 (148/240) /content/fallDetect/demo/input/test.mp4: 512x512 1 persons, Done. (0.091s)\n",
            "video 1/1 (149/240) /content/fallDetect/demo/input/test.mp4: 512x512 1 persons, Done. (0.089s)\n",
            "video 1/1 (150/240) /content/fallDetect/demo/input/test.mp4: 512x512 1 persons, Done. (0.092s)\n",
            "video 1/1 (151/240) /content/fallDetect/demo/input/test.mp4: 512x512 1 persons, Done. (0.093s)\n",
            "video 1/1 (152/240) /content/fallDetect/demo/input/test.mp4: 512x512 1 persons, Done. (0.093s)\n",
            "video 1/1 (153/240) /content/fallDetect/demo/input/test.mp4: 512x512 1 persons, Done. (0.091s)\n",
            "video 1/1 (154/240) /content/fallDetect/demo/input/test.mp4: 512x512 1 persons, Done. (0.089s)\n",
            "video 1/1 (155/240) /content/fallDetect/demo/input/test.mp4: 512x512 1 persons, Done. (0.089s)\n",
            "video 1/1 (156/240) /content/fallDetect/demo/input/test.mp4: 512x512 1 persons, Done. (0.093s)\n",
            "video 1/1 (157/240) /content/fallDetect/demo/input/test.mp4: 512x512 1 persons, Done. (0.091s)\n",
            "video 1/1 (158/240) /content/fallDetect/demo/input/test.mp4: 512x512 1 persons, Done. (0.088s)\n",
            "video 1/1 (159/240) /content/fallDetect/demo/input/test.mp4: 512x512 1 persons, Done. (0.091s)\n",
            "video 1/1 (160/240) /content/fallDetect/demo/input/test.mp4: 512x512 1 persons, Done. (0.092s)\n",
            "video 1/1 (161/240) /content/fallDetect/demo/input/test.mp4: 512x512 1 persons, Done. (0.089s)\n",
            "video 1/1 (162/240) /content/fallDetect/demo/input/test.mp4: 512x512 1 persons, Done. (0.090s)\n",
            "video 1/1 (163/240) /content/fallDetect/demo/input/test.mp4: 512x512 1 persons, Done. (0.092s)\n",
            "video 1/1 (164/240) /content/fallDetect/demo/input/test.mp4: 512x512 1 persons, Done. (0.091s)\n",
            "video 1/1 (165/240) /content/fallDetect/demo/input/test.mp4: 512x512 1 persons, Done. (0.089s)\n",
            "video 1/1 (166/240) /content/fallDetect/demo/input/test.mp4: 512x512 1 persons, Done. (0.091s)\n",
            "video 1/1 (167/240) /content/fallDetect/demo/input/test.mp4: 512x512 1 persons, Done. (0.091s)\n",
            "video 1/1 (168/240) /content/fallDetect/demo/input/test.mp4: 512x512 1 persons, Done. (0.092s)\n",
            "video 1/1 (169/240) /content/fallDetect/demo/input/test.mp4: 512x512 1 persons, Done. (0.089s)\n",
            "video 1/1 (170/240) /content/fallDetect/demo/input/test.mp4: 512x512 1 persons, Done. (0.092s)\n",
            "video 1/1 (171/240) /content/fallDetect/demo/input/test.mp4: 512x512 1 persons, Done. (0.092s)\n",
            "video 1/1 (172/240) /content/fallDetect/demo/input/test.mp4: 512x512 1 persons, Done. (0.090s)\n",
            "video 1/1 (173/240) /content/fallDetect/demo/input/test.mp4: 512x512 1 persons, Done. (0.088s)\n",
            "video 1/1 (174/240) /content/fallDetect/demo/input/test.mp4: 512x512 1 persons, Done. (0.092s)\n",
            "video 1/1 (175/240) /content/fallDetect/demo/input/test.mp4: 512x512 1 persons, Done. (0.092s)\n",
            "video 1/1 (176/240) /content/fallDetect/demo/input/test.mp4: 512x512 1 persons, Done. (0.089s)\n",
            "video 1/1 (177/240) /content/fallDetect/demo/input/test.mp4: 512x512 1 persons, Done. (0.089s)\n",
            "video 1/1 (178/240) /content/fallDetect/demo/input/test.mp4: 512x512 1 persons, Done. (0.092s)\n",
            "video 1/1 (179/240) /content/fallDetect/demo/input/test.mp4: 512x512 1 persons, Done. (0.091s)\n",
            "video 1/1 (180/240) /content/fallDetect/demo/input/test.mp4: 512x512 1 persons, Done. (0.088s)\n",
            "video 1/1 (181/240) /content/fallDetect/demo/input/test.mp4: 512x512 1 persons, Done. (0.091s)\n",
            "video 1/1 (182/240) /content/fallDetect/demo/input/test.mp4: 512x512 1 persons, Done. (0.092s)\n",
            "video 1/1 (183/240) /content/fallDetect/demo/input/test.mp4: 512x512 1 persons, Done. (0.089s)\n",
            "video 1/1 (184/240) /content/fallDetect/demo/input/test.mp4: 512x512 1 persons, Done. (0.089s)\n",
            "video 1/1 (185/240) /content/fallDetect/demo/input/test.mp4: 512x512 1 persons, Done. (0.093s)\n",
            "video 1/1 (186/240) /content/fallDetect/demo/input/test.mp4: 512x512 1 persons, Done. (0.092s)\n",
            "video 1/1 (187/240) /content/fallDetect/demo/input/test.mp4: 512x512 1 persons, Done. (0.088s)\n",
            "video 1/1 (188/240) /content/fallDetect/demo/input/test.mp4: 512x512 1 persons, Done. (0.091s)\n",
            "video 1/1 (189/240) /content/fallDetect/demo/input/test.mp4: 512x512 1 persons, Done. (0.092s)\n",
            "video 1/1 (190/240) /content/fallDetect/demo/input/test.mp4: 512x512 1 persons, Done. (0.090s)\n",
            "video 1/1 (191/240) /content/fallDetect/demo/input/test.mp4: 512x512 1 persons, Done. (0.088s)\n",
            "video 1/1 (192/240) /content/fallDetect/demo/input/test.mp4: 512x512 1 persons, Done. (0.093s)\n",
            "video 1/1 (193/240) /content/fallDetect/demo/input/test.mp4: 512x512 1 persons, Done. (0.092s)\n",
            "video 1/1 (194/240) /content/fallDetect/demo/input/test.mp4: 512x512 1 persons, Done. (0.089s)\n",
            "video 1/1 (195/240) /content/fallDetect/demo/input/test.mp4: 512x512 1 persons, Done. (0.090s)\n",
            "video 1/1 (196/240) /content/fallDetect/demo/input/test.mp4: 512x512 1 persons, Done. (0.093s)\n",
            "video 1/1 (197/240) /content/fallDetect/demo/input/test.mp4: 512x512 1 persons, Done. (0.091s)\n",
            "video 1/1 (198/240) /content/fallDetect/demo/input/test.mp4: 512x512 1 persons, Done. (0.089s)\n",
            "video 1/1 (199/240) /content/fallDetect/demo/input/test.mp4: 512x512 1 persons, Done. (0.091s)\n",
            "video 1/1 (200/240) /content/fallDetect/demo/input/test.mp4: 512x512 1 persons, Done. (0.092s)\n",
            "video 1/1 (201/240) /content/fallDetect/demo/input/test.mp4: 512x512 1 persons, Done. (0.089s)\n",
            "video 1/1 (202/240) /content/fallDetect/demo/input/test.mp4: 512x512 1 persons, Done. (0.090s)\n",
            "video 1/1 (203/240) /content/fallDetect/demo/input/test.mp4: 512x512 1 persons, Done. (0.092s)\n",
            "video 1/1 (204/240) /content/fallDetect/demo/input/test.mp4: 512x512 1 persons, Done. (0.090s)\n",
            "video 1/1 (205/240) /content/fallDetect/demo/input/test.mp4: 512x512 1 persons, Done. (0.089s)\n",
            "video 1/1 (206/240) /content/fallDetect/demo/input/test.mp4: 512x512 1 persons, Done. (0.092s)\n",
            "video 1/1 (207/240) /content/fallDetect/demo/input/test.mp4: 512x512 1 persons, Done. (0.090s)\n",
            "video 1/1 (208/240) /content/fallDetect/demo/input/test.mp4: 512x512 1 persons, Done. (0.089s)\n",
            "video 1/1 (209/240) /content/fallDetect/demo/input/test.mp4: 512x512 1 persons, Done. (0.090s)\n",
            "video 1/1 (210/240) /content/fallDetect/demo/input/test.mp4: 512x512 1 persons, Done. (0.093s)\n",
            "video 1/1 (211/240) /content/fallDetect/demo/input/test.mp4: 512x512 1 persons, Done. (0.092s)\n",
            "video 1/1 (212/240) /content/fallDetect/demo/input/test.mp4: 512x512 1 persons, Done. (0.089s)\n",
            "video 1/1 (213/240) /content/fallDetect/demo/input/test.mp4: 512x512 1 persons, Done. (0.089s)\n",
            "video 1/1 (214/240) /content/fallDetect/demo/input/test.mp4: 512x512 1 persons, Done. (0.092s)\n",
            "video 1/1 (215/240) /content/fallDetect/demo/input/test.mp4: 512x512 1 persons, Done. (0.089s)\n",
            "video 1/1 (216/240) /content/fallDetect/demo/input/test.mp4: 512x512 1 persons, Done. (0.091s)\n",
            "video 1/1 (217/240) /content/fallDetect/demo/input/test.mp4: 512x512 1 persons, Done. (0.093s)\n",
            "video 1/1 (218/240) /content/fallDetect/demo/input/test.mp4: 512x512 1 persons, Done. (0.091s)\n",
            "video 1/1 (219/240) /content/fallDetect/demo/input/test.mp4: 512x512 1 persons, Done. (0.089s)\n",
            "video 1/1 (220/240) /content/fallDetect/demo/input/test.mp4: 512x512 1 persons, Done. (0.092s)\n",
            "video 1/1 (221/240) /content/fallDetect/demo/input/test.mp4: 512x512 1 persons, Done. (0.094s)\n",
            "video 1/1 (222/240) /content/fallDetect/demo/input/test.mp4: 512x512 1 persons, Done. (0.092s)\n",
            "video 1/1 (223/240) /content/fallDetect/demo/input/test.mp4: 512x512 1 persons, Done. (0.089s)\n",
            "video 1/1 (224/240) /content/fallDetect/demo/input/test.mp4: 512x512 1 persons, Done. (0.091s)\n",
            "video 1/1 (225/240) /content/fallDetect/demo/input/test.mp4: 512x512 1 persons, Done. (0.092s)\n",
            "video 1/1 (226/240) /content/fallDetect/demo/input/test.mp4: 512x512 1 persons, Done. (0.090s)\n",
            "video 1/1 (227/240) /content/fallDetect/demo/input/test.mp4: 512x512 1 persons, Done. (0.089s)\n",
            "video 1/1 (228/240) /content/fallDetect/demo/input/test.mp4: 512x512 1 persons, Done. (0.094s)\n",
            "video 1/1 (229/240) /content/fallDetect/demo/input/test.mp4: 512x512 1 persons, Done. (0.093s)\n",
            "video 1/1 (230/240) /content/fallDetect/demo/input/test.mp4: 512x512 1 persons, Done. (0.091s)\n",
            "video 1/1 (231/240) /content/fallDetect/demo/input/test.mp4: 512x512 1 persons, Done. (0.089s)\n",
            "video 1/1 (232/240) /content/fallDetect/demo/input/test.mp4: 512x512 1 persons, Done. (0.094s)\n",
            "video 1/1 (233/240) /content/fallDetect/demo/input/test.mp4: 512x512 1 persons, Done. (0.093s)\n",
            "video 1/1 (234/240) /content/fallDetect/demo/input/test.mp4: 512x512 1 persons, Done. (0.092s)\n",
            "video 1/1 (235/240) /content/fallDetect/demo/input/test.mp4: 512x512 1 persons, Done. (0.088s)\n",
            "video 1/1 (236/240) /content/fallDetect/demo/input/test.mp4: 512x512 1 persons, Done. (0.091s)\n",
            "video 1/1 (237/240) /content/fallDetect/demo/input/test.mp4: 512x512 1 persons, Done. (0.096s)\n",
            "video 1/1 (238/240) /content/fallDetect/demo/input/test.mp4: 512x512 1 persons, Done. (0.090s)\n",
            "video 1/1 (239/240) /content/fallDetect/demo/input/test.mp4: 512x512 1 persons, Done. (0.090s)\n",
            "video 1/1 (240/240) /content/fallDetect/demo/input/test.mp4: 512x512 1 persons, Done. (0.089s)\n",
            "Done. (23.177s)\n"
          ],
          "name": "stdout"
        }
      ]
    }
  ]
}